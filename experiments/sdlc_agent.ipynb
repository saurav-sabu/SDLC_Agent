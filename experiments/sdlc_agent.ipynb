{
  "cells": [
    {
      "cell_type": "code",
      "execution_count": null,
      "metadata": {
        "id": "u5lFACxM5vnc"
      },
      "outputs": [],
      "source": [
        "! pip install -q langgraph langchain-core langchain-community langchain-openai"
      ]
    },
    {
      "cell_type": "code",
      "execution_count": 4,
      "metadata": {
        "id": "NtfjGY9_5xgR"
      },
      "outputs": [],
      "source": [
        "from typing_extensions import TypedDict, Annotated\n",
        "from IPython.display import display, Image\n",
        "from langgraph.graph import StateGraph, START, END\n",
        "from langchain_core.prompts import PromptTemplate\n",
        "from langchain_openai import ChatOpenAI\n",
        "from langgraph.graph.message import add_messages\n",
        "from google.colab import userdata\n",
        "import os"
      ]
    },
    {
      "cell_type": "code",
      "execution_count": 5,
      "metadata": {
        "id": "phVXUQ3E5-6X"
      },
      "outputs": [],
      "source": [
        "OPENAI_API_KEY = userdata.get('OPENAI_API_KEY')\n",
        "os.environ['OPENAI_API_KEY'] = OPENAI_API_KEY"
      ]
    },
    {
      "cell_type": "code",
      "execution_count": 6,
      "metadata": {
        "id": "wJiqYTcf6HwC"
      },
      "outputs": [],
      "source": [
        "class State(TypedDict):\n",
        "    messages: Annotated[list,add_messages]"
      ]
    },
    {
      "cell_type": "code",
      "execution_count": 11,
      "metadata": {
        "id": "OO4HJetZ6JN8"
      },
      "outputs": [],
      "source": [
        "def generate_user_stories(state:State):\n",
        "    user_story_prompt = \"\"\"\n",
        "    You are an expert Agile product owner specializing in user story generation. Your goal is to create well-structured user stories\n",
        "    that align with Agile best practices and ensure clarity for development teams. Each user story must adhere to the following:\n",
        "\n",
        "    - Clearly define the user role.\n",
        "    - Describe the action or feature the user needs.\n",
        "    - Specify the benefit or reason behind the feature.\n",
        "    - Include three to five well-defined acceptance criteria.\n",
        "    - Ensure that the user stories are clear, concise, and aligned with Agile methodologies.\n",
        "\n",
        "    **Project Details:**\n",
        "    - Project Name: project_name\n",
        "    - Project Description: project_description\n",
        "    - Key Features & Requirements:\n",
        "    features\n",
        "\n",
        "    **Deliverables:**\n",
        "    Generate at least one user story per key feature, ensuring:\n",
        "    - The stories follow the standard format: \"As a [user role], I want [feature or action] so that [benefit or reason].\"\n",
        "    - Each story has 3-5 acceptance criteria, formatted with bullet points.\n",
        "    - If applicable, include edge cases or dependencies.\n",
        "\n",
        "    Please generate the structured user stories below:\n",
        "    \"\"\"\n",
        "\n",
        "    llm = ChatOpenAI(model=\"gpt-4o\")\n",
        "    return {\"messages\":[llm.invoke([user_story_prompt]+state[\"messages\"])]}"
      ]
    },
    {
      "cell_type": "code",
      "execution_count": 12,
      "metadata": {
        "colab": {
          "base_uri": "https://localhost:8080/"
        },
        "id": "ly6oWmsb6Knc",
        "outputId": "0d8db2fb-68d6-4846-8497-c158c9f92a60"
      },
      "outputs": [
        {
          "data": {
            "text/plain": [
              "<langgraph.graph.state.StateGraph at 0x783463285e90>"
            ]
          },
          "execution_count": 12,
          "metadata": {},
          "output_type": "execute_result"
        }
      ],
      "source": [
        "builder = StateGraph(State)\n",
        "\n",
        "builder.add_node(\"generate_user_stories\",generate_user_stories)\n",
        "\n",
        "builder.add_edge(START,\"generate_user_stories\")\n",
        "builder.add_edge(\"generate_user_stories\",END)"
      ]
    },
    {
      "cell_type": "code",
      "execution_count": 13,
      "metadata": {
        "colab": {
          "base_uri": "https://localhost:8080/",
          "height": 251
        },
        "id": "9i7QVDSE6MC3",
        "outputId": "919a2288-c769-4447-c5f3-ac000f6692ea"
      },
      "outputs": [
        {
          "data": {
            "image/png": "[encoded data removed]",
            "text/plain": [
              "<IPython.core.display.Image object>"
            ]
          },
          "metadata": {},
          "output_type": "display_data"
        }
      ],
      "source": [
        "graph = builder.compile()\n",
        "display(Image(graph.get_graph().draw_mermaid_png()))"
      ]
    },
    {
      "cell_type": "code",
      "execution_count": 15,
      "metadata": {
        "colab": {
          "base_uri": "https://localhost:8080/"
        },
        "id": "ROlp_LT66Ne8",
        "outputId": "5f1b402f-9ef8-410e-a672-276d869b31df"
      },
      "outputs": [
        {
          "name": "stdout",
          "output_type": "stream",
          "text": [
            "{'messages': [SystemMessage(content='\\n            Project Name: Smart Legal Assistant\\n            Project Description: A chatbot that provides legal assistance by retrieving relevant Indian laws and case precedents.\\n            Key Features:\\n            - Natural Language Processing for legal queries\\n            - Retrieval of relevant statutes and case laws\\n            - Multilingual support for Indian languages\\n            - Document generation for legal drafts\\n            ', additional_kwargs={}, response_metadata={}, id='261dfda8-da55-4e8f-904b-632e46d6444c'), AIMessage(content=\"### User Story 1: Natural Language Processing for Legal Queries\\n\\n**As a** user seeking legal advice,  \\n**I want** the Smart Legal Assistant to understand and process my legal queries in natural language  \\n**so that** I can receive accurate and relevant legal information without needing to use legal jargon.\\n\\n**Acceptance Criteria:**\\n- The system must successfully interpret a variety of legal questions formulated in everyday language.\\n- When a user asks a legal question, the system should provide a clear and concise response within 5 seconds.\\n- The user interface must offer suggestions or clarifications if the query is ambiguous or unclear.\\n- The system should log common queries to improve future response accuracy.\\n\\n**Edge Cases/Dependencies:**\\n- Handling of informal or slang language requires continuous updates and learning in the NLP model.\\n\\n### User Story 2: Retrieval of Relevant Statutes and Case Laws\\n\\n**As a** legal professional,  \\n**I want** the Smart Legal Assistant to retrieve statutes and case laws pertinent to my query  \\n**so that** I can make informed decisions based on current legal standards.\\n\\n**Acceptance Criteria:**\\n- The system must provide at least one correct statute or case law that is directly relevant to the user's query.\\n- Results should include a brief summary and the option to explore full legal texts.\\n- Retrieval should prioritize most recent or landmark case laws in the context of the user's query.\\n- Users should be able to filter results by jurisdiction or date.\\n\\n**Edge Cases/Dependencies:**\\n- Integration with a comprehensive and up-to-date legal database is essential.\\n\\n### User Story 3: Multilingual Support for Indian Languages\\n\\n**As a** non-English speaking individual,  \\n**I want** the Smart Legal Assistant to support multiple Indian languages  \\n**so that** I can receive legal help in my native language, enhancing accessibility.\\n\\n**Acceptance Criteria:**\\n- The system should support at least 5 major Indian languages in initial deployment (e.g., Hindi, Tamil, Telugu, Bengali, Marathi).\\n- Users must be able to switch languages seamlessly without restarting the session.\\n- Accuracy of translations must be validated against standard legal terminologies in respective languages.\\n- The chatbot's language settings should automatically detect the language in which the initial query is made and respond accordingly.\\n\\n**Edge Cases/Dependencies:**\\n- Consistent updating of language packs as new legal terms or language updates occur.\\n\\n### User Story 4: Document Generation for Legal Drafts\\n\\n**As a** client needing legal documents,  \\n**I want** the Smart Legal Assistant to generate preliminary drafts of legal documents  \\n**so that** I can have a head start on documentation before consulting with a legal expert.\\n\\n**Acceptance Criteria:**\\n- The system should provide templates for common documents like contracts, affidavits, and leases.\\n- Users must be able to fill out forms in a guided experience, specifying key details.\\n- Generated documents should be available in editable formats (e.g., Word, PDF).\\n- The system must include a disclaimer to remind users that drafts should be reviewed by a legal professional.\\n\\n**Edge Cases/Dependencies:**\\n- Adapting templates to adhere to jurisdiction-specific legal standards (e.g., stamp duties).\\n\", additional_kwargs={'refusal': None}, response_metadata={'token_usage': {'completion_tokens': 639, 'prompt_tokens': 313, 'total_tokens': 952, 'completion_tokens_details': {'accepted_prediction_tokens': 0, 'audio_tokens': 0, 'reasoning_tokens': 0, 'rejected_prediction_tokens': 0}, 'prompt_tokens_details': {'audio_tokens': 0, 'cached_tokens': 0}}, 'model_name': 'gpt-4o-2024-08-06', 'system_fingerprint': 'fp_f9f4fb6dbf', 'finish_reason': 'stop', 'logprobs': None}, id='run-d2b472b1-4db7-4dce-bd84-94597738f599-0', usage_metadata={'input_tokens': 313, 'output_tokens': 639, 'total_tokens': 952, 'input_token_details': {'audio': 0, 'cache_read': 0}, 'output_token_details': {'audio': 0, 'reasoning': 0}})]}\n"
          ]
        }
      ],
      "source": [
        "# Define the initial state with project details\n",
        "initial_state = {\n",
        "    \"messages\": [\n",
        "        {\n",
        "            \"role\": \"system\",\n",
        "            \"content\": \"\"\"\n",
        "            Project Name: Smart Legal Assistant\n",
        "            Project Description: A chatbot that provides legal assistance by retrieving relevant Indian laws and case precedents.\n",
        "            Key Features:\n",
        "            - Natural Language Processing for legal queries\n",
        "            - Retrieval of relevant statutes and case laws\n",
        "            - Multilingual support for Indian languages\n",
        "            - Document generation for legal drafts\n",
        "            \"\"\"\n",
        "        }\n",
        "    ]\n",
        "}\n",
        "\n",
        "# Invoke the workflow\n",
        "result = graph.invoke(initial_state)"
      ]
    },
    {
      "cell_type": "code",
      "execution_count": 16,
      "metadata": {
        "colab": {
          "base_uri": "https://localhost:8080/"
        },
        "id": "CfPFUkeK6zk6",
        "outputId": "114537a5-c052-4e60-f56c-2bd23b12f0ca"
      },
      "outputs": [
        {
          "name": "stdout",
          "output_type": "stream",
          "text": [
            "================================\u001b[1m System Message \u001b[0m================================\n",
            "\n",
            "\n",
            "            Project Name: Smart Legal Assistant\n",
            "            Project Description: A chatbot that provides legal assistance by retrieving relevant Indian laws and case precedents.\n",
            "            Key Features:\n",
            "            - Natural Language Processing for legal queries\n",
            "            - Retrieval of relevant statutes and case laws\n",
            "            - Multilingual support for Indian languages\n",
            "            - Document generation for legal drafts\n",
            "            \n",
            "==================================\u001b[1m Ai Message \u001b[0m==================================\n",
            "\n",
            "### User Story 1: Natural Language Processing for Legal Queries\n",
            "\n",
            "**As a** user seeking legal advice,  \n",
            "**I want** the Smart Legal Assistant to understand and process my legal queries in natural language  \n",
            "**so that** I can receive accurate and relevant legal information without needing to use legal jargon.\n",
            "\n",
            "**Acceptance Criteria:**\n",
            "- The system must successfully interpret a variety of legal questions formulated in everyday language.\n",
            "- When a user asks a legal question, the system should provide a clear and concise response within 5 seconds.\n",
            "- The user interface must offer suggestions or clarifications if the query is ambiguous or unclear.\n",
            "- The system should log common queries to improve future response accuracy.\n",
            "\n",
            "**Edge Cases/Dependencies:**\n",
            "- Handling of informal or slang language requires continuous updates and learning in the NLP model.\n",
            "\n",
            "### User Story 2: Retrieval of Relevant Statutes and Case Laws\n",
            "\n",
            "**As a** legal professional,  \n",
            "**I want** the Smart Legal Assistant to retrieve statutes and case laws pertinent to my query  \n",
            "**so that** I can make informed decisions based on current legal standards.\n",
            "\n",
            "**Acceptance Criteria:**\n",
            "- The system must provide at least one correct statute or case law that is directly relevant to the user's query.\n",
            "- Results should include a brief summary and the option to explore full legal texts.\n",
            "- Retrieval should prioritize most recent or landmark case laws in the context of the user's query.\n",
            "- Users should be able to filter results by jurisdiction or date.\n",
            "\n",
            "**Edge Cases/Dependencies:**\n",
            "- Integration with a comprehensive and up-to-date legal database is essential.\n",
            "\n",
            "### User Story 3: Multilingual Support for Indian Languages\n",
            "\n",
            "**As a** non-English speaking individual,  \n",
            "**I want** the Smart Legal Assistant to support multiple Indian languages  \n",
            "**so that** I can receive legal help in my native language, enhancing accessibility.\n",
            "\n",
            "**Acceptance Criteria:**\n",
            "- The system should support at least 5 major Indian languages in initial deployment (e.g., Hindi, Tamil, Telugu, Bengali, Marathi).\n",
            "- Users must be able to switch languages seamlessly without restarting the session.\n",
            "- Accuracy of translations must be validated against standard legal terminologies in respective languages.\n",
            "- The chatbot's language settings should automatically detect the language in which the initial query is made and respond accordingly.\n",
            "\n",
            "**Edge Cases/Dependencies:**\n",
            "- Consistent updating of language packs as new legal terms or language updates occur.\n",
            "\n",
            "### User Story 4: Document Generation for Legal Drafts\n",
            "\n",
            "**As a** client needing legal documents,  \n",
            "**I want** the Smart Legal Assistant to generate preliminary drafts of legal documents  \n",
            "**so that** I can have a head start on documentation before consulting with a legal expert.\n",
            "\n",
            "**Acceptance Criteria:**\n",
            "- The system should provide templates for common documents like contracts, affidavits, and leases.\n",
            "- Users must be able to fill out forms in a guided experience, specifying key details.\n",
            "- Generated documents should be available in editable formats (e.g., Word, PDF).\n",
            "- The system must include a disclaimer to remind users that drafts should be reviewed by a legal professional.\n",
            "\n",
            "**Edge Cases/Dependencies:**\n",
            "- Adapting templates to adhere to jurisdiction-specific legal standards (e.g., stamp duties).\n"
          ]
        }
      ],
      "source": [
        "for message in result[\"messages\"]:\n",
        "  message.pretty_print()"
      ]
    },
    {
      "cell_type": "code",
      "execution_count": null,
      "metadata": {
        "id": "BfguSbFS7Xzq"
      },
      "outputs": [],
      "source": []
    }
  ],
  "metadata": {
    "colab": {
      "provenance": []
    },
    "kernelspec": {
      "display_name": "Python 3",
      "name": "python3"
    },
    "language_info": {
      "name": "python",
      "version": "3.12.9"
    }
  },
  "nbformat": 4,
  "nbformat_minor": 0
}
